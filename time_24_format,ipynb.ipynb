{
 "cells": [
  {
   "cell_type": "code",
   "execution_count": 7,
   "metadata": {},
   "outputs": [
    {
     "name": "stdout",
     "output_type": "stream",
     "text": [
      "22:30:50\n"
     ]
    }
   ],
   "source": [
    "\n",
    "def convert24(str1):\n",
    "\t\n",
    "\n",
    "\tif str1[-2:] == \"AM\" and str1[:2] == \"12\":\n",
    "\t\treturn \"00\" + str1[2:-2]\n",
    "\t\t\n",
    "\t\n",
    "\telif str1[-2:] == \"AM\":\n",
    "\t\treturn str1[:-2]\n",
    "\t\n",
    "\n",
    "\telif str1[-2:] == \"PM\" and str1[:2] == \"12\":\n",
    "\t\treturn str1[:-2]\n",
    "\t\t\n",
    "\telse:\n",
    "\t\t\n",
    "\t\treturn str(int(str1[:2]) + 12) + str1[2:8]\n",
    "\n",
    "print(convert24(\"10:30:50 PM\"))\n"
   ]
  }
 ],
 "metadata": {
  "kernelspec": {
   "display_name": "Python 3.9.13 ('base')",
   "language": "python",
   "name": "python3"
  },
  "language_info": {
   "codemirror_mode": {
    "name": "ipython",
    "version": 3
   },
   "file_extension": ".py",
   "mimetype": "text/x-python",
   "name": "python",
   "nbconvert_exporter": "python",
   "pygments_lexer": "ipython3",
   "version": "3.9.13"
  },
  "orig_nbformat": 4,
  "vscode": {
   "interpreter": {
    "hash": "5bc8525572ac091601a9f09f0f1610b318a23087912fbcd6f1cfd19679699467"
   }
  }
 },
 "nbformat": 4,
 "nbformat_minor": 2
}
